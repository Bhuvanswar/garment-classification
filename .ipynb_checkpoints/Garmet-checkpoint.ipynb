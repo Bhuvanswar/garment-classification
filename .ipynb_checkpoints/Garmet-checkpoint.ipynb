{
 "cells": [
  {
   "cell_type": "code",
   "execution_count": 1,
   "id": "ccc58a90-2c15-4082-9670-33a5f61a81da",
   "metadata": {},
   "outputs": [],
   "source": [
    "from tensorflow.keras.applications import InceptionV3\n",
    "from tensorflow.keras.layers import Dense, GlobalAveragePooling2D, Dropout, Flatten, Input\n",
    "from tensorflow.keras.models import Model\n",
    "from tensorflow.keras.optimizers import Adam\n",
    "from tensorflow.keras.preprocessing.image import ImageDataGenerator\n",
    "from tensorflow.keras.applications.inception_v3 import preprocess_input\n",
    "from tensorflow.keras.layers import Flatten, Dense, Dropout, Input\n",
    "from tensorflow.keras.utils import to_categorical\n",
    "from tensorflow.keras.preprocessing.image import ImageDataGenerator\n",
    "\n",
    "import numpy as np\n",
    "from sklearn.metrics import classification_report\n",
    "import time \n",
    "import os"
   ]
  },
  {
   "cell_type": "code",
   "execution_count": 2,
   "id": "7ca1d611",
   "metadata": {},
   "outputs": [
    {
     "name": "stdout",
     "output_type": "stream",
     "text": [
      "Contents of the directory:\n",
      "Acrylic\n",
      "Artificial_fur\n",
      "Artificial_leather\n",
      "Chenille\n",
      "Corduroy\n",
      "Cotton\n",
      "Crepe\n",
      "Denim\n",
      "Felt\n",
      "Fleece\n",
      "Leather\n",
      "Linen\n",
      "Lut\n",
      "Nylon\n",
      "Polyester\n",
      "Satin\n",
      "Silk\n",
      "Suede\n",
      "Terrycloth\n",
      "Velvet\n",
      "Viscose\n",
      "Wool\n",
      "\n",
      "Number of directories: 22\n"
     ]
    }
   ],
   "source": [
    "directory = 'C:\\\\Users\\\\bhuva\\\\OneDrive\\\\Desktop\\\\New folder\\\\Fabrics\\\\train'\n",
    "contents = os.listdir(directory)\n",
    "num_of_dirs = len([name for name in contents if os.path.isdir(os.path.join(directory, name))])\n",
    "\n",
    "print(\"Contents of the directory:\")\n",
    "for item in contents:\n",
    "    print(item)\n",
    "\n",
    "print(f\"\\nNumber of directories: {num_of_dirs}\")"
   ]
  },
  {
   "cell_type": "code",
   "execution_count": 3,
   "id": "a99ebc2c",
   "metadata": {},
   "outputs": [
    {
     "name": "stdout",
     "output_type": "stream",
     "text": [
      "No images found in the directory.\n"
     ]
    }
   ],
   "source": [
    "from PIL import Image\n",
    "import os\n",
    "from PIL import ImageFile\n",
    "ImageFile.LOAD_TRUNCATED_IMAGES = True\n",
    "\n",
    "directory_path = 'C:\\\\Users\\\\bhuva\\\\OneDrive\\\\Desktop\\\\New folder\\\\Fabrics\\\\train'\n",
    "\n",
    "file_names = os.listdir(directory_path)\n",
    "\n",
    "images = []\n",
    "for file_name in file_names:\n",
    "    if file_name.endswith('.png') or file_name.endswith('.jpg') or file_name.endswith('.jpeg'):\n",
    "        image_path = os.path.join(directory_path, file_name)\n",
    "        image = Image.open(image_path)\n",
    "        images.append(image)\n",
    "\n",
    "if images:\n",
    "    images[0].show()\n",
    "else:\n",
    "    print(\"No images found in the directory.\")"
   ]
  },
  {
   "cell_type": "code",
   "execution_count": 4,
   "id": "97145b10",
   "metadata": {},
   "outputs": [],
   "source": [
    "batch_size = 50\n",
    "num_epochs = 4\n",
    "image_size = (299, 299)\n",
    "num_classes = 22"
   ]
  },
  {
   "cell_type": "code",
   "execution_count": 5,
   "id": "73ecfe8a",
   "metadata": {},
   "outputs": [],
   "source": [
    "image_input = Input(shape=(*image_size, 3))\n",
    "inception_model = InceptionV3(input_tensor=image_input, weights='imagenet', include_top=False)"
   ]
  },
  {
   "cell_type": "code",
   "execution_count": 6,
   "id": "08fc1070",
   "metadata": {},
   "outputs": [],
   "source": [
    "x = inception_model.output\n",
    "x = GlobalAveragePooling2D()(x)\n",
    "x = Dense(1024, activation='relu')(x)\n",
    "x = Dropout(0.5)(x)\n",
    "class_outputs = Dense(num_classes, activation='softmax')(x)"
   ]
  },
  {
   "cell_type": "code",
   "execution_count": 7,
   "id": "6930bc12",
   "metadata": {},
   "outputs": [
    {
     "name": "stdout",
     "output_type": "stream",
     "text": [
      "Found 2288 images belonging to 22 classes.\n",
      "Found 2284 images belonging to 22 classes.\n"
     ]
    },
    {
     "name": "stderr",
     "output_type": "stream",
     "text": [
      "C:\\Users\\bhuva\\AppData\\Local\\Programs\\Python\\Python312\\Lib\\site-packages\\keras\\src\\trainers\\data_adapters\\py_dataset_adapter.py:121: UserWarning: Your `PyDataset` class should call `super().__init__(**kwargs)` in its constructor. `**kwargs` can include `workers`, `use_multiprocessing`, `max_queue_size`. Do not pass these arguments to `fit()`, as they will be ignored.\n",
      "  self._warn_if_super_not_called()\n"
     ]
    },
    {
     "name": "stdout",
     "output_type": "stream",
     "text": [
      "Epoch 1/4\n"
     ]
    },
    {
     "name": "stderr",
     "output_type": "stream",
     "text": [
      "C:\\Users\\bhuva\\AppData\\Local\\Programs\\Python\\Python312\\Lib\\site-packages\\keras\\src\\models\\functional.py:225: UserWarning: The structure of `inputs` doesn't match the expected structure: ['keras_tensor']. Received: the structure of inputs=*\n",
      "  warnings.warn(\n"
     ]
    },
    {
     "name": "stdout",
     "output_type": "stream",
     "text": [
      "\u001b[1m46/46\u001b[0m \u001b[32m━━━━━━━━━━━━━━━━━━━━\u001b[0m\u001b[37m\u001b[0m \u001b[1m1103s\u001b[0m 22s/step - accuracy: 0.2961 - loss: 2.3891 - val_accuracy: 0.0552 - val_loss: 4.8089\n",
      "Epoch 2/4\n",
      "\u001b[1m46/46\u001b[0m \u001b[32m━━━━━━━━━━━━━━━━━━━━\u001b[0m\u001b[37m\u001b[0m \u001b[1m1020s\u001b[0m 22s/step - accuracy: 0.7259 - loss: 0.9555 - val_accuracy: 0.0937 - val_loss: 5.5517\n",
      "Epoch 3/4\n",
      "\u001b[1m46/46\u001b[0m \u001b[32m━━━━━━━━━━━━━━━━━━━━\u001b[0m\u001b[37m\u001b[0m \u001b[1m922s\u001b[0m 20s/step - accuracy: 0.8240 - loss: 0.5513 - val_accuracy: 0.1384 - val_loss: 6.4390\n",
      "Epoch 4/4\n",
      "\u001b[1m46/46\u001b[0m \u001b[32m━━━━━━━━━━━━━━━━━━━━\u001b[0m\u001b[37m\u001b[0m \u001b[1m902s\u001b[0m 20s/step - accuracy: 0.8820 - loss: 0.3540 - val_accuracy: 0.1576 - val_loss: 7.0971\n",
      "Found 892 images belonging to 22 classes.\n"
     ]
    },
    {
     "name": "stderr",
     "output_type": "stream",
     "text": [
      "WARNING:absl:You are saving your model as an HDF5 file via `model.save()` or `keras.saving.save_model(model)`. This file format is considered legacy. We recommend using instead the native Keras format, e.g. `model.save('my_model.keras')` or `keras.saving.save_model(model, 'my_model.keras')`. \n"
     ]
    }
   ],
   "source": [
    "model = Model(inputs=inception_model.input, outputs=class_outputs)\n",
    "model.compile(loss='categorical_crossentropy', optimizer=Adam(learning_rate=1e-4), metrics=['accuracy'])\n",
    "\n",
    "train_datagen = ImageDataGenerator(\n",
    "    preprocessing_function=preprocess_input,\n",
    "    rotation_range=20,\n",
    "    width_shift_range=0.2,\n",
    "    height_shift_range=0.2,\n",
    "    shear_range=0.2,\n",
    "    zoom_range=0.2,\n",
    "    horizontal_flip=True\n",
    ")\n",
    "\n",
    "train_dataset = train_datagen.flow_from_directory(\n",
    "    'C:\\\\Users\\\\bhuva\\\\OneDrive\\\\Desktop\\\\New folder\\\\Fabrics\\\\train',\n",
    "    target_size=(299, 299),\n",
    "    batch_size=batch_size,\n",
    "    class_mode='categorical'\n",
    ")\n",
    "\n",
    "val_datagen = ImageDataGenerator(preprocessing_function=preprocess_input)\n",
    "\n",
    "val_dataset = val_datagen.flow_from_directory(\n",
    "    'C:\\\\Users\\\\bhuva\\\\OneDrive\\\\Desktop\\\\New folder\\\\Fabrics\\\\validate',\n",
    "    target_size=(299, 299),\n",
    "    batch_size=batch_size,\n",
    "    class_mode='categorical'\n",
    ")\n",
    "\n",
    "history = model.fit(train_dataset, epochs=num_epochs, validation_data=val_dataset)\n",
    "\n",
    "test_datagen = ImageDataGenerator(preprocessing_function=preprocess_input)\n",
    "\n",
    "test_dataset = test_datagen.flow_from_directory(\n",
    "    'C:\\\\Users\\\\bhuva\\\\OneDrive\\\\Desktop\\\\New folder\\\\Fabrics\\\\test',\n",
    "    target_size=(299, 299),\n",
    "    batch_size=batch_size,\n",
    "    class_mode='categorical'\n",
    ")\n",
    "model.save('garmet_model_inspection.h5')\n"
   ]
  },
  {
   "cell_type": "code",
   "execution_count": 8,
   "id": "79d3dbdd",
   "metadata": {},
   "outputs": [
    {
     "data": {
      "text/plain": [
       "['garmet_model_inspection.pkl']"
      ]
     },
     "execution_count": 8,
     "metadata": {},
     "output_type": "execute_result"
    }
   ],
   "source": [
    "model.save('garmet_model_inspection.keras')\n",
    "import joblib\n",
    "joblib.dump(model, 'garmet_model_inspection.pkl')"
   ]
  },
  {
   "cell_type": "code",
   "execution_count": 9,
   "id": "d4b193a4",
   "metadata": {},
   "outputs": [],
   "source": [
    "model.save_weights('model_weights.weights.h5')\n",
    "model_config = model.get_config()\n",
    "with open('model_config.pkl', 'wb') as config_file:\n",
    "    joblib.dump(model_config, config_file)"
   ]
  },
  {
   "cell_type": "code",
   "execution_count": 10,
   "id": "9b91fe8a",
   "metadata": {},
   "outputs": [
    {
     "data": {
      "image/png": "[encoded data removed]",
      "text/plain": [
       "<Figure size 640x480 with 1 Axes>"
      ]
     },
     "metadata": {},
     "output_type": "display_data"
    },
    {
     "data": {
      "image/png": "[encoded data removed]",
      "text/plain": [
       "<Figure size 640x480 with 1 Axes>"
      ]
     },
     "metadata": {},
     "output_type": "display_data"
    }
   ],
   "source": [
    "import matplotlib.pyplot as plt\n",
    "def plot_metrics(history):\n",
    "    plt.plot(history.history['accuracy'])\n",
    "    plt.plot(history.history['val_accuracy'])\n",
    "    plt.title('Model accuracy')\n",
    "    plt.ylabel('Accuracy')\n",
    "    plt.xlabel('Epoch')\n",
    "    plt.legend(['Train', 'Validation'], loc='upper left')\n",
    "    plt.show()\n",
    "\n",
    "    plt.plot(history.history['loss'])\n",
    "    plt.plot(history.history['val_loss'])\n",
    "    plt.title('Model loss')\n",
    "    plt.ylabel('Loss')\n",
    "    plt.xlabel('Epoch')\n",
    "    plt.legend(['Train', 'Validation'], loc='upper left')\n",
    "    plt.show()\n",
    "\n",
    "plot_metrics(history)\n"
   ]
  },
  {
   "cell_type": "code",
   "execution_count": 11,
   "id": "bdb9257c",
   "metadata": {},
   "outputs": [
    {
     "name": "stdout",
     "output_type": "stream",
     "text": [
      "Found 892 images belonging to 22 classes.\n"
     ]
    },
    {
     "name": "stderr",
     "output_type": "stream",
     "text": [
      "C:\\Users\\bhuva\\AppData\\Local\\Programs\\Python\\Python312\\Lib\\site-packages\\keras\\src\\trainers\\data_adapters\\py_dataset_adapter.py:121: UserWarning: Your `PyDataset` class should call `super().__init__(**kwargs)` in its constructor. `**kwargs` can include `workers`, `use_multiprocessing`, `max_queue_size`. Do not pass these arguments to `fit()`, as they will be ignored.\n",
      "  self._warn_if_super_not_called()\n"
     ]
    },
    {
     "name": "stdout",
     "output_type": "stream",
     "text": [
      "\u001b[1m18/18\u001b[0m \u001b[32m━━━━━━━━━━━━━━━━━━━━\u001b[0m\u001b[37m\u001b[0m \u001b[1m86s\u001b[0m 5s/step - accuracy: 0.0318 - loss: 6.6922\n",
      "Time taken to evaluate the model: 88.23151063919067\n",
      "Test Loss: 6.646513938903809\n",
      "Test Accuracy: 0.05605380982160568\n"
     ]
    },
    {
     "name": "stderr",
     "output_type": "stream",
     "text": [
      "C:\\Users\\bhuva\\AppData\\Local\\Programs\\Python\\Python312\\Lib\\site-packages\\keras\\src\\models\\functional.py:225: UserWarning: The structure of `inputs` doesn't match the expected structure: ['keras_tensor']. Received: the structure of inputs=*\n",
      "  warnings.warn(\n"
     ]
    },
    {
     "name": "stdout",
     "output_type": "stream",
     "text": [
      "\u001b[1m18/18\u001b[0m \u001b[32m━━━━━━━━━━━━━━━━━━━━\u001b[0m\u001b[37m\u001b[0m \u001b[1m94s\u001b[0m 5s/step\n",
      "              precision    recall  f1-score   support\n",
      "\n",
      "           0     0.0000    0.0000    0.0000         4\n",
      "           1     0.0000    0.0000    0.0000         4\n",
      "           2     0.0000    0.0000    0.0000         4\n",
      "           3     0.0000    0.0000    0.0000         4\n",
      "           4     0.0000    0.0000    0.0000         4\n",
      "           5     0.0000    0.0000    0.0000         4\n",
      "           6     0.0000    0.0000    0.0000         4\n",
      "           7     0.0000    0.0000    0.0000         4\n",
      "           8     0.0000    0.0000    0.0000         4\n",
      "           9     0.0000    0.0000    0.0000         4\n",
      "          10     0.0000    0.0000    0.0000         4\n",
      "          11     0.0000    0.0000    0.0000         4\n",
      "          12     0.0000    0.0000    0.0000         4\n",
      "          13     0.0000    0.0000    0.0000         4\n",
      "          14     0.0112    0.5000    0.0220         4\n",
      "          15     0.0000    0.0000    0.0000         4\n",
      "          16     0.0000    0.0000    0.0000         4\n",
      "          17     0.0000    0.0000    0.0000         4\n",
      "          18     0.0000    0.0000    0.0000         4\n",
      "          19     0.0217    0.2500    0.0400         4\n",
      "          20     0.0000    0.0000    0.0000       412\n",
      "          21     0.3032    0.1175    0.1694       400\n",
      "\n",
      "    accuracy                         0.0561       892\n",
      "   macro avg     0.0153    0.0394    0.0105       892\n",
      "weighted avg     0.1361    0.0561    0.0762       892\n",
      "\n"
     ]
    },
    {
     "name": "stderr",
     "output_type": "stream",
     "text": [
      "C:\\Users\\bhuva\\AppData\\Local\\Programs\\Python\\Python312\\Lib\\site-packages\\sklearn\\metrics\\_classification.py:1531: UndefinedMetricWarning: Precision is ill-defined and being set to 0.0 in labels with no predicted samples. Use `zero_division` parameter to control this behavior.\n",
      "  _warn_prf(average, modifier, f\"{metric.capitalize()} is\", len(result))\n",
      "C:\\Users\\bhuva\\AppData\\Local\\Programs\\Python\\Python312\\Lib\\site-packages\\sklearn\\metrics\\_classification.py:1531: UndefinedMetricWarning: Precision is ill-defined and being set to 0.0 in labels with no predicted samples. Use `zero_division` parameter to control this behavior.\n",
      "  _warn_prf(average, modifier, f\"{metric.capitalize()} is\", len(result))\n",
      "C:\\Users\\bhuva\\AppData\\Local\\Programs\\Python\\Python312\\Lib\\site-packages\\sklearn\\metrics\\_classification.py:1531: UndefinedMetricWarning: Precision is ill-defined and being set to 0.0 in labels with no predicted samples. Use `zero_division` parameter to control this behavior.\n",
      "  _warn_prf(average, modifier, f\"{metric.capitalize()} is\", len(result))\n"
     ]
    }
   ],
   "source": [
    "# Load the test data\n",
    "test_datagen = ImageDataGenerator(preprocessing_function=preprocess_input)\n",
    "\n",
    "test_dataset = test_datagen.flow_from_directory(\n",
    "    'C:\\\\Users\\\\bhuva\\\\OneDrive\\\\Desktop\\\\New folder\\\\Fabrics\\\\test',\n",
    "    target_size=(299, 299),\n",
    "    batch_size=batch_size,\n",
    "    class_mode='categorical',\n",
    "    shuffle=False  \n",
    ")\n",
    "\n",
    "start_time = time.time()\n",
    "evaluation_result = model.evaluate(test_dataset)\n",
    "print(\"Time taken to evaluate the model: \" + str(time.time() - start_time))\n",
    "\n",
    "print(\"Test Loss:\", evaluation_result[0])\n",
    "print(\"Test Accuracy:\", evaluation_result[1])\n",
    "\n",
    "y_pred = model.predict(test_dataset)\n",
    "y_pred_bool = np.argmax(y_pred, axis=1)\n",
    "\n",
    "true_labels = test_dataset.labels\n",
    "\n",
    "print(classification_report(true_labels, y_pred_bool, digits=4))\n",
    "\n",
    "np.savetxt(\"y_true.txt\", true_labels, fmt=\"%d\")\n",
    "np.savetxt(\"y_pred.txt\", y_pred_bool, fmt=\"%d\")"
   ]
  },
  {
   "cell_type": "code",
   "execution_count": null,
   "id": "bc2a7727-13d2-4410-a9b3-758dc3bc56f9",
   "metadata": {},
   "outputs": [],
   "source": []
  }
 ],
 "metadata": {
  "kernelspec": {
   "display_name": "Python 3",
   "language": "python",
   "name": "python3"
  },
  "language_info": {
   "codemirror_mode": {
    "name": "ipython",
    "version": 3
   },
   "file_extension": ".py",
   "mimetype": "text/x-python",
   "name": "python",
   "nbconvert_exporter": "python",
   "pygments_lexer": "ipython3",
   "version": "3.12.7"
  }
 },
 "nbformat": 4,
 "nbformat_minor": 5
}
