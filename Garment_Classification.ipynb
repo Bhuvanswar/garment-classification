{
 "cells": [
  {
   "cell_type": "code",
   "execution_count": 1,
   "metadata": {
    "executionInfo": {
     "elapsed": 386,
     "status": "ok",
     "timestamp": 1735289280931,
     "user": {
      "displayName": "Vijaya Reddy",
      "userId": "18125217541448187668"
     },
     "user_tz": -330
    },
    "id": "c5JyfupXxzod"
   },
   "outputs": [],
   "source": [
    "import tensorflow as tf\n",
    "from tensorflow.keras.preprocessing.image import ImageDataGenerator\n",
    "from tensorflow.keras import layers, models\n",
    "from sklearn.metrics import confusion_matrix, ConfusionMatrixDisplay\n",
    "import matplotlib.pyplot as plt\n",
    "import numpy as np\n",
    "import os"
   ]
  },
  {
   "cell_type": "code",
   "execution_count": 9,
   "metadata": {
    "colab": {
     "base_uri": "https://localhost:8080/"
    },
    "executionInfo": {
     "elapsed": 2982,
     "status": "ok",
     "timestamp": 1735289284331,
     "user": {
      "displayName": "Vijaya Reddy",
      "userId": "18125217541448187668"
     },
     "user_tz": -330
    },
    "id": "_UxHr_STyQbU",
    "outputId": "a4cb8fde-529d-4393-c837-d42c7ce46c66"
   },
   "outputs": [
    {
     "name": "stdout",
     "output_type": "stream",
     "text": [
      "Note: you may need to restart the kernel to use updated packages.\n"
     ]
    },
    {
     "name": "stderr",
     "output_type": "stream",
     "text": [
      "ERROR: Could not find a version that satisfies the requirement google-colaboratory (from versions: none)\n",
      "ERROR: No matching distribution found for google-colaboratory\n"
     ]
    },
    {
     "ename": "ModuleNotFoundError",
     "evalue": "No module named 'google.colab'",
     "output_type": "error",
     "traceback": [
      "\u001b[1;31m---------------------------------------------------------------------------\u001b[0m",
      "\u001b[1;31mModuleNotFoundError\u001b[0m                       Traceback (most recent call last)",
      "Cell \u001b[1;32mIn[9], line 2\u001b[0m\n\u001b[0;32m      1\u001b[0m get_ipython()\u001b[38;5;241m.\u001b[39mrun_line_magic(\u001b[38;5;124m'\u001b[39m\u001b[38;5;124mpip\u001b[39m\u001b[38;5;124m'\u001b[39m, \u001b[38;5;124m'\u001b[39m\u001b[38;5;124minstall google-colaboratory\u001b[39m\u001b[38;5;124m'\u001b[39m)\n\u001b[1;32m----> 2\u001b[0m \u001b[38;5;28;01mfrom\u001b[39;00m \u001b[38;5;21;01mgoogle\u001b[39;00m\u001b[38;5;21;01m.\u001b[39;00m\u001b[38;5;21;01mcolab\u001b[39;00m \u001b[38;5;28;01mimport\u001b[39;00m drive\n\u001b[0;32m      3\u001b[0m drive\u001b[38;5;241m.\u001b[39mmount(\u001b[38;5;124m'\u001b[39m\u001b[38;5;124m/content/drive/\u001b[39m\u001b[38;5;124m'\u001b[39m)\n",
      "\u001b[1;31mModuleNotFoundError\u001b[0m: No module named 'google.colab'"
     ]
    }
   ],
   "source": [
    "%pip install google-colaboratory\n",
    "from google.colab import drive\n",
    "drive.mount('/content/drive/')"
   ]
  },
  {
   "cell_type": "code",
   "execution_count": null,
   "metadata": {
    "executionInfo": {
     "elapsed": 6,
     "status": "ok",
     "timestamp": 1735289284331,
     "user": {
      "displayName": "Vijaya Reddy",
      "userId": "18125217541448187668"
     },
     "user_tz": -330
    },
    "id": "XIYyhjHcyQ5l"
   },
   "outputs": [],
   "source": [
    "# Set paths and parameters\n",
    "data_dir = '/content/drive/MyDrive/Garment_Data'  # Path to your dataset\n",
    "target_size = (224, 224)  # Resize images to this size\n",
    "batch_size = 16  # Batch size"
   ]
  },
  {
   "cell_type": "code",
   "execution_count": null,
   "metadata": {
    "executionInfo": {
     "elapsed": 6,
     "status": "ok",
     "timestamp": 1735289284332,
     "user": {
      "displayName": "Vijaya Reddy",
      "userId": "18125217541448187668"
     },
     "user_tz": -330
    },
    "id": "Ul3c1gwl07pW"
   },
   "outputs": [],
   "source": [
    "# Automatically determine the number of classes based on subfolder names\n",
    "class_names = sorted(os.listdir(data_dir))\n",
    "num_classes = len(class_names)"
   ]
  },
  {
   "cell_type": "code",
   "execution_count": null,
   "metadata": {
    "colab": {
     "base_uri": "https://localhost:8080/"
    },
    "executionInfo": {
     "elapsed": 6,
     "status": "ok",
     "timestamp": 1735289284332,
     "user": {
      "displayName": "Vijaya Reddy",
      "userId": "18125217541448187668"
     },
     "user_tz": -330
    },
    "id": "v4g0gkkEx7xx",
    "outputId": "a5f43681-c1d8-4bb4-84c4-0e0adea05f7d"
   },
   "outputs": [],
   "source": [
    "# Data preprocessing\n",
    "train_datagen = ImageDataGenerator(\n",
    "    rescale=1./255,\n",
    "    validation_split=0.2,  # 20% of the data for validation\n",
    "    rotation_range=20,\n",
    "    width_shift_range=0.2,\n",
    "    height_shift_range=0.2,\n",
    "    shear_range=0.2,\n",
    "    zoom_range=0.2,\n",
    "    horizontal_flip=True,\n",
    "    fill_mode='nearest'\n",
    ")\n",
    "\n",
    "train_generator = train_datagen.flow_from_directory(\n",
    "    data_dir,\n",
    "    target_size=target_size,\n",
    "    batch_size=batch_size,\n",
    "    class_mode='categorical',\n",
    "    subset='training'\n",
    ")\n",
    "\n",
    "validation_generator = train_datagen.flow_from_directory(\n",
    "    data_dir,\n",
    "    target_size=target_size,\n",
    "    batch_size=batch_size,\n",
    "    class_mode='categorical',\n",
    "    subset='validation'\n",
    ")"
   ]
  },
  {
   "cell_type": "code",
   "execution_count": null,
   "metadata": {
    "colab": {
     "base_uri": "https://localhost:8080/",
     "height": 838
    },
    "executionInfo": {
     "elapsed": 414,
     "status": "ok",
     "timestamp": 1735293248777,
     "user": {
      "displayName": "Vijaya Reddy",
      "userId": "18125217541448187668"
     },
     "user_tz": -330
    },
    "id": "rLLn4_CByARg",
    "outputId": "31778422-c09a-4bc2-a390-5dbab518832f"
   },
   "outputs": [],
   "source": [
    "# Build the CNN model\n",
    "model = models.Sequential([\n",
    "    layers.Conv2D(32, (3, 3), activation='relu', input_shape=(224, 224, 3)),\n",
    "    layers.BatchNormalization(),\n",
    "    layers.Conv2D(32, (3, 3), activation='relu'),\n",
    "    layers.MaxPooling2D((2, 2)),\n",
    "\n",
    "    layers.Conv2D(64, (3, 3), activation='relu'),\n",
    "    layers.BatchNormalization(),\n",
    "    layers.Conv2D(64, (3, 3), activation='relu'),\n",
    "    layers.MaxPooling2D((2, 2)),\n",
    "\n",
    "    layers.Conv2D(128, (3, 3), activation='relu'),\n",
    "    layers.BatchNormalization(),\n",
    "    layers.Conv2D(128, (3, 3), activation='relu'),\n",
    "    layers.MaxPooling2D((2, 2)),\n",
    "\n",
    "    layers.Flatten(),\n",
    "    layers.Dense(256, activation='relu'),\n",
    "    layers.BatchNormalization(),\n",
    "    layers.Dropout(0.5),\n",
    "    layers.Dense(num_classes, activation='softmax')\n",
    "])\n",
    "model.compile(optimizer='adam',\n",
    "              loss='categorical_crossentropy',\n",
    "              metrics=['accuracy'])\n",
    "model.summary()"
   ]
  },
  {
   "cell_type": "code",
   "execution_count": null,
   "metadata": {
    "colab": {
     "base_uri": "https://localhost:8080/"
    },
    "executionInfo": {
     "elapsed": 1715081,
     "status": "ok",
     "timestamp": 1735293013639,
     "user": {
      "displayName": "Vijaya Reddy",
      "userId": "18125217541448187668"
     },
     "user_tz": -330
    },
    "id": "PNnXc7QeyD0q",
    "outputId": "e2dd010b-5202-4dc0-dab1-7fb2aea8a098"
   },
   "outputs": [],
   "source": [
    "# Train the model\n",
    "history = model.fit(\n",
    "    train_generator,\n",
    "    validation_data=validation_generator,\n",
    "    epochs=50\n",
    ")"
   ]
  },
  {
   "cell_type": "code",
   "execution_count": null,
   "metadata": {
    "colab": {
     "base_uri": "https://localhost:8080/",
     "height": 607
    },
    "executionInfo": {
     "elapsed": 1444,
     "status": "ok",
     "timestamp": 1735293148799,
     "user": {
      "displayName": "Vijaya Reddy",
      "userId": "18125217541448187668"
     },
     "user_tz": -330
    },
    "id": "joMFlF_gyH9R",
    "outputId": "94b3252c-2cd3-4415-97e9-e1b3fc25929d"
   },
   "outputs": [],
   "source": [
    "# Plot accuracy and loss curves\n",
    "plt.figure(figsize=(12, 6))\n",
    "\n",
    "# Accuracy curve\n",
    "plt.subplot(1, 2, 1)\n",
    "plt.plot(history.history['accuracy'], label='Training Accuracy')\n",
    "plt.plot(history.history['val_accuracy'], label='Validation Accuracy')\n",
    "plt.xlabel('Epochs')\n",
    "plt.ylabel('Accuracy')\n",
    "plt.title('Accuracy Curve')\n",
    "plt.legend()\n",
    "\n",
    "# Loss curve\n",
    "plt.subplot(1, 2, 2)\n",
    "plt.plot(history.history['loss'], label='Training Loss')\n",
    "plt.plot(history.history['val_loss'], label='Validation Loss')\n",
    "plt.xlabel('Epochs')\n",
    "plt.ylabel('Loss')\n",
    "plt.title('Loss Curve')\n",
    "plt.legend()\n",
    "\n",
    "plt.tight_layout()\n",
    "plt.show()"
   ]
  },
  {
   "cell_type": "code",
   "execution_count": null,
   "metadata": {
    "colab": {
     "base_uri": "https://localhost:8080/",
     "height": 596
    },
    "executionInfo": {
     "elapsed": 6887,
     "status": "ok",
     "timestamp": 1735293161781,
     "user": {
      "displayName": "Vijaya Reddy",
      "userId": "18125217541448187668"
     },
     "user_tz": -330
    },
    "id": "4Jo8HotRyGI6",
    "outputId": "4edc7156-cd04-4e95-aa29-ad0690597a2d"
   },
   "outputs": [],
   "source": [
    "# Evaluate and generate confusion matrix\n",
    "# Get true labels and predictions\n",
    "validation_generator.reset()\n",
    "y_true = validation_generator.classes\n",
    "class_labels = list(validation_generator.class_indices.keys())\n",
    "y_pred = model.predict(validation_generator)\n",
    "y_pred_classes = np.argmax(y_pred, axis=1)\n",
    "\n",
    "# Ensure alignment between confusion matrix and class labels\n",
    "unique_labels = np.unique(y_true)\n",
    "filtered_class_labels = [class_labels[i] for i in unique_labels]\n",
    "\n",
    "# Generate confusion matrix\n",
    "cm = confusion_matrix(y_true, y_pred_classes, labels=unique_labels)\n",
    "\n",
    "# Plot confusion matrix\n",
    "plt.figure(figsize=(12, 12))\n",
    "cmd = ConfusionMatrixDisplay(confusion_matrix=cm, display_labels=filtered_class_labels)\n",
    "cmd.plot(cmap=plt.cm.Blues, xticks_rotation='vertical')\n",
    "plt.title('Confusion Matrix')\n",
    "plt.show()\n",
    "\n",
    "# Save the model\n",
    "model.save(\"garment_classifier.h5\")\n"
   ]
  },
  {
   "cell_type": "code",
   "execution_count": null,
   "metadata": {
    "colab": {
     "base_uri": "https://localhost:8080/"
    },
    "executionInfo": {
     "elapsed": 394,
     "status": "ok",
     "timestamp": 1735296796107,
     "user": {
      "displayName": "Vijaya Reddy",
      "userId": "18125217541448187668"
     },
     "user_tz": -330
    },
    "id": "AWEtuMV_v6-t",
    "outputId": "7df3dee8-8f4e-4645-f961-b5fd13326ede"
   },
   "outputs": [],
   "source": [
    "from sklearn.metrics import precision_recall_fscore_support, accuracy_score\n",
    "\n",
    "# Calculate accuracy\n",
    "accuracy = accuracy_score(y_true, y_pred_classes)\n",
    "\n",
    "# Calculate precision, recall, F1-score for each class\n",
    "precision, recall, f1, support = precision_recall_fscore_support(\n",
    "    y_true, y_pred_classes, labels=unique_labels, average=None\n",
    ")\n",
    "\n",
    "# Calculate overall precision, recall, and F1-score\n",
    "macro_precision, macro_recall, macro_f1, _ = precision_recall_fscore_support(\n",
    "    y_true, y_pred_classes, labels=unique_labels, average=\"macro\"\n",
    ")\n",
    "\n",
    "weighted_precision, weighted_recall, weighted_f1, _ = precision_recall_fscore_support(\n",
    "    y_true, y_pred_classes, labels=unique_labels, average=\"weighted\"\n",
    ")\n",
    "\n",
    "# Print metrics for each class\n",
    "print(\"Class-wise Metrics:\")\n",
    "for idx, label in enumerate(filtered_class_labels):\n",
    "    print(f\"Class: {label}\")\n",
    "    print(f\"  Precision: {precision[idx]:.2f}\")\n",
    "    print(f\"  Recall: {recall[idx]:.2f}\")\n",
    "    print(f\"  F1-Score: {f1[idx]:.2f}\")\n",
    "\n",
    "# Print overall metrics\n",
    "print(\"\\nOverall Metrics:\")\n",
    "print(f\"  Accuracy: {accuracy:.2f}\")\n",
    "print(f\"  Macro Precision: {macro_precision:.2f}\")\n",
    "print(f\"  Macro Recall: {macro_recall:.2f}\")\n",
    "print(f\"  Macro F1-Score: {macro_f1:.2f}\")\n",
    "print(f\"  Weighted Precision: {weighted_precision:.2f}\")\n",
    "print(f\"  Weighted Recall: {weighted_recall:.2f}\")\n",
    "print(f\"  Weighted F1-Score: {weighted_f1:.2f}\")\n"
   ]
  }
 ],
 "metadata": {
  "accelerator": "GPU",
  "colab": {
   "authorship_tag": "ABX9TyMZXwRxoHvYZ+Zpf7nC35yP",
   "gpuType": "T4",
   "provenance": []
  },
  "kernelspec": {
   "display_name": "Python 3 (ipykernel)",
   "language": "python",
   "name": "python3"
  },
  "language_info": {
   "codemirror_mode": {
    "name": "ipython",
    "version": 3
   },
   "file_extension": ".py",
   "mimetype": "text/x-python",
   "name": "python",
   "nbconvert_exporter": "python",
   "pygments_lexer": "ipython3",
   "version": "3.12.7"
  }
 },
 "nbformat": 4,
 "nbformat_minor": 4
}
